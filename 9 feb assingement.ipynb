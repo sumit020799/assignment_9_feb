{
 "cells": [
  {
   "attachments": {},
   "cell_type": "markdown",
   "metadata": {},
   "source": [
    "9 feb assingement\n",
    "\n",
    "1. Create a vehicle class with an init method having instance variables as name_of_vehicle, max_speed \n",
    "and average_of_vehicle. "
   ]
  },
  {
   "cell_type": "code",
   "execution_count": 8,
   "metadata": {},
   "outputs": [],
   "source": [
    "class vehicle :\n",
    "    def __init__ (self,name_of_vehicle, max_speed, average_of_vehicle) :\n",
    "           self.name_of_vehicle =  name_of_vehicle\n",
    "           self.max_speed = max_speed\n",
    "           self.average_of_vehicle = average_of_vehicle\n",
    "    def return_vehicle_info(self):\n",
    "          return self.name_of_vehicle, self.max_speed, self.average_of_vehicle\n",
    "    "
   ]
  },
  {
   "cell_type": "code",
   "execution_count": 9,
   "metadata": {},
   "outputs": [],
   "source": [
    "car = vehicle(\"Audi_a6\", 240, \"15kmpl\")"
   ]
  },
  {
   "cell_type": "code",
   "execution_count": 15,
   "metadata": {},
   "outputs": [
    {
     "data": {
      "text/plain": [
       "'Audi_a6'"
      ]
     },
     "execution_count": 15,
     "metadata": {},
     "output_type": "execute_result"
    }
   ],
   "source": [
    "car.name_of_vehicle"
   ]
  },
  {
   "cell_type": "code",
   "execution_count": 16,
   "metadata": {},
   "outputs": [
    {
     "data": {
      "text/plain": [
       "240"
      ]
     },
     "execution_count": 16,
     "metadata": {},
     "output_type": "execute_result"
    }
   ],
   "source": [
    "car.max_speed"
   ]
  },
  {
   "cell_type": "code",
   "execution_count": 17,
   "metadata": {},
   "outputs": [
    {
     "data": {
      "text/plain": [
       "'15kmpl'"
      ]
     },
     "execution_count": 17,
     "metadata": {},
     "output_type": "execute_result"
    }
   ],
   "source": [
    "car.average_of_vehicle"
   ]
  },
  {
   "cell_type": "code",
   "execution_count": 13,
   "metadata": {},
   "outputs": [
    {
     "data": {
      "text/plain": [
       "('Audi_a6', 240, '15kmpl')"
      ]
     },
     "execution_count": 13,
     "metadata": {},
     "output_type": "execute_result"
    }
   ],
   "source": [
    "car.return_vehicle_info()"
   ]
  },
  {
   "attachments": {},
   "cell_type": "markdown",
   "metadata": {},
   "source": [
    "2. Create a child class car from the vehicle class created in Que 1, which will inherit the vehicle class. \n",
    "Create a method named seating_capacity which takes capacity as an argument and returns the name of \n",
    "the vehicle and its seating capacity.\n"
   ]
  },
  {
   "cell_type": "code",
   "execution_count": 29,
   "metadata": {},
   "outputs": [],
   "source": [
    "class vehicle :\n",
    "    def __init__ (self,name_of_vehicle, max_speed, average_of_vehicle) :\n",
    "           self.name_of_vehicle =  name_of_vehicle\n",
    "           self.max_speed = max_speed\n",
    "           self.average_of_vehicle = average_of_vehicle\n",
    "    def return_vehicle_info(self):\n",
    "          return self.name_of_vehicle, self.max_speed, self.average_of_vehicle\n",
    "    \n",
    "class Car(vehicle):\n",
    "    def seating_capacity(self, capacity):\n",
    "        print(self.name_of_vehicle,\"has a seating capacity of\",capacity, \"people\")\n",
    "        "
   ]
  },
  {
   "cell_type": "code",
   "execution_count": 30,
   "metadata": {},
   "outputs": [
    {
     "name": "stdout",
     "output_type": "stream",
     "text": [
      "('Toyota', '200km/h', '30kmpl')\n",
      "Toyota has a seating capacity of 5 people\n",
      "None\n"
     ]
    }
   ],
   "source": [
    "my_car = Car(\"Toyota\", \"200km/h\", \"30kmpl\")\n",
    "print(my_car.return_vehicle_info()) \n",
    "print(my_car.seating_capacity(5))\n"
   ]
  },
  {
   "attachments": {},
   "cell_type": "markdown",
   "metadata": {},
   "source": [
    "3. What is multiple inheritance? Write a python code to demonstrate multiple inheritance."
   ]
  },
  {
   "cell_type": "code",
   "execution_count": 40,
   "metadata": {},
   "outputs": [],
   "source": [
    "'''When a class can be derived from more than one base class this type of inheritance is called multiple inheritances.'''\n",
    "#example\n",
    "class add:\n",
    "    def add(self, a=1, b=3):\n",
    "        return a+b\n",
    "    \n",
    "class sub:\n",
    "    def sub(self, a=9, b=8):\n",
    "        return a-b  \n",
    "    \n",
    "class child(add, sub):\n",
    "    pass    \n",
    "        \n",
    "    \n"
   ]
  },
  {
   "cell_type": "code",
   "execution_count": 49,
   "metadata": {},
   "outputs": [
    {
     "name": "stdout",
     "output_type": "stream",
     "text": [
      "4\n",
      "1\n"
     ]
    }
   ],
   "source": [
    "obj_child = child()\n",
    "print(obj_child.add())\n",
    "print(obj_child.sub())\n",
    "\n"
   ]
  },
  {
   "attachments": {},
   "cell_type": "markdown",
   "metadata": {},
   "source": [
    "4. What are getter and setter in python? Create a class and create a getter and a setter method in this \n",
    "class.\n",
    "\n",
    "Ans = Getter: A method that allows you to access an attribute in a given class.\n",
    "      Setter: A method that allows you to set or mutate the value of an attribute in a class.\n",
    "      These are not inbuit function of Python.we have to create these tpyes of function inside the Class for \n",
    "      accessing the data. \n",
    "\n"
   ]
  },
  {
   "cell_type": "code",
   "execution_count": 21,
   "metadata": {},
   "outputs": [],
   "source": [
    "#example\n",
    "\n",
    "class Student:\n",
    "    def __init__(self,name, id, address, classs, rollno):\n",
    "        self._name = name\n",
    "        self._id=id\n",
    "        self._address=address\n",
    "        self._classs=classs\n",
    "        self._rollno=rollno\n",
    "\n",
    "     \n",
    "    def set_detail(self, name, id, address, classs, rollno):\n",
    "        self._name = name\n",
    "        self._id = id\n",
    "        self._address = address\n",
    "        self._classs = classs\n",
    "        self._rollno = rollno\n",
    "        \n",
    "    \n",
    "    def get_detail(self):\n",
    "        return self._name, self._id, self._classs, self._address, self._rollno\n",
    "    \n",
    " "
   ]
  },
  {
   "cell_type": "code",
   "execution_count": 22,
   "metadata": {},
   "outputs": [],
   "source": [
    "Pw_Student = Student(\"Sumit\", 43, \"delhi\", 10, 2)"
   ]
  },
  {
   "cell_type": "code",
   "execution_count": 23,
   "metadata": {},
   "outputs": [
    {
     "data": {
      "text/plain": [
       "('Sumit', 43, 10, 'delhi', 2)"
      ]
     },
     "execution_count": 23,
     "metadata": {},
     "output_type": "execute_result"
    }
   ],
   "source": [
    "Pw_Student.get_detail()"
   ]
  },
  {
   "cell_type": "code",
   "execution_count": 24,
   "metadata": {},
   "outputs": [],
   "source": [
    "Pw_Student.set_detail(\"rahul\", 32, \"noida\", 12, 3)"
   ]
  },
  {
   "cell_type": "code",
   "execution_count": 25,
   "metadata": {},
   "outputs": [
    {
     "data": {
      "text/plain": [
       "('rahul', 32, 12, 'noida', 3)"
      ]
     },
     "execution_count": 25,
     "metadata": {},
     "output_type": "execute_result"
    }
   ],
   "source": [
    "Pw_Student.get_detail()"
   ]
  },
  {
   "attachments": {},
   "cell_type": "markdown",
   "metadata": {},
   "source": [
    "4. What is method overriding in python? Write a python code to demonstrate method overriding.\n",
    "\n",
    "ans- Method overriding in Python is a process of defining a method in the subclass that already exists in the \n",
    "     superclass with the same name and signature.\n",
    "     Python does not allow overloding but, we can achive it through Classmethod. Overloding is basically we can do that\n",
    "     we pass parametre in the class without create class-object."
   ]
  },
  {
   "cell_type": "code",
   "execution_count": 29,
   "metadata": {},
   "outputs": [],
   "source": [
    "#example\n",
    "\n",
    "class pw_Skills:\n",
    "\n",
    "    def __init__(self, name, course):\n",
    "        self.name = name\n",
    "        self.course = course\n",
    "\n",
    "    @classmethod\n",
    "    def details(cls, name, course):\n",
    "        return cls(name, course) \n",
    "\n",
    "    def student_details(self):\n",
    "        print(self.name, self.course)\n",
    "\n",
    "    "
   ]
  },
  {
   "cell_type": "code",
   "execution_count": 31,
   "metadata": {},
   "outputs": [
    {
     "data": {
      "text/plain": [
       "<__main__.pw_Skills at 0x1f316fd3990>"
      ]
     },
     "execution_count": 31,
     "metadata": {},
     "output_type": "execute_result"
    }
   ],
   "source": [
    "pw_Skills.details(\"Sumit\", \"Data_Science_Master\")"
   ]
  },
  {
   "cell_type": "code",
   "execution_count": 32,
   "metadata": {},
   "outputs": [],
   "source": [
    "Student = pw_Skills.details(\"Sumit\", \"Data_Science_Master\")"
   ]
  },
  {
   "cell_type": "code",
   "execution_count": 36,
   "metadata": {},
   "outputs": [
    {
     "name": "stdout",
     "output_type": "stream",
     "text": [
      "Sumit Data_Science_Master\n"
     ]
    }
   ],
   "source": [
    "Student.student_details()"
   ]
  }
 ],
 "metadata": {
  "kernelspec": {
   "display_name": "Python 3",
   "language": "python",
   "name": "python3"
  },
  "language_info": {
   "codemirror_mode": {
    "name": "ipython",
    "version": 3
   },
   "file_extension": ".py",
   "mimetype": "text/x-python",
   "name": "python",
   "nbconvert_exporter": "python",
   "pygments_lexer": "ipython3",
   "version": "3.11.4"
  },
  "orig_nbformat": 4
 },
 "nbformat": 4,
 "nbformat_minor": 2
}
